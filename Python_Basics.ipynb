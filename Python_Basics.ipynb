{
  "nbformat": 4,
  "nbformat_minor": 0,
  "metadata": {
    "colab": {
      "provenance": []
    },
    "kernelspec": {
      "name": "python3",
      "display_name": "Python 3"
    },
    "language_info": {
      "name": "python"
    }
  },
  "cells": [
    {
      "cell_type": "markdown",
      "source": [
        "# Python Basics"
      ],
      "metadata": {
        "id": "Arfe0udBWHPB"
      }
    },
    {
      "cell_type": "markdown",
      "source": [
        "1. What is Python, and why is it popular?\n",
        "   - Python is a programming language that is widely used in web applications,\n",
        "     software development, data science, and machine learning (ML). Developers use Python because it is efficient and easy to learn and can run on many different platforms. Python software is free to download, integrates well with all types of systems, and increases development speed.\n",
        "   - Python is a popular programming language for many reasons, including:\n",
        "     - Easy to learn: Python's simple syntax makes it accessible for beginners and newcomers.\n",
        "     - Libraries: Python has a large selection of libraries and modules that    can help developers solve problems.\n",
        "     - Automation: Python can automate tasks like updating spreadsheets,  \n",
        "       sending emails, and sending text notifications.\n",
        "     - Machine learning: Python is a popular choice for machine learning  \n",
        "       because of its simple syntax and support for machine learning libraries.\n",
        "     - Data science: Python is used by data scientists to analyze data and draw\n",
        "       insights.\n",
        "     - Web development: Python is a preferred language for web development\n",
        "       because of its libraries and frameworks like Django and Flask.\n",
        "\n",
        "2. What is an interpreter in Python?\n",
        "    - A Python interpreter is a computer program that translates Python code\n",
        "      into machine code, which is a language that computers can understand.\n",
        "    - The interpreter reads the source code, breaks it down into tokens, and\n",
        "      checks the syntax. If the code is syntactically correct, the interpreter generates bytecode, which is a lower-level representation of the code. The Python Virtual Machine (PVM) then executes the bytecode to perform the specified operations and generate the output.\n",
        "\n",
        "3. What are pre-defined keywords in Python?\n",
        "   - Python Keywords are some predefined and reserved words in Python that have\n",
        "     special meanings. Keywords are used to define the syntax of the coding. The keyword cannot be used as an identifier, function, or variable name. All the keywords in Python are written in lowercase except True and False. As of Python 3.13, there are 36 keywords in Python. The number of keywords can change with each new version of Python, as new keywords may be added and others removed.\n",
        "     Here are some pre-defined keywords in Python:\n",
        "        - Def: Used to define a function, which is a block of code that takes\n",
        "          inputs, performs operations, and returns an output\n",
        "        - Class: Used to declare user-defined classes, which are collections of\n",
        "          methods and attributes that represent a real-world situation\n",
        "        - Lambda: Used to create a function without a name, which will not      contain a return statement\n",
        "        -  And: Used to combine two or more statements into one condition\n",
        "        -  Break: Used when working with loops\n",
        "\n",
        "4. Can keywords be used as variable names?\n",
        "   - No, we cannot use keywords as variable names in Python. Keywords are reserved words in Python that define the language's structure and syntax rules. Using a keyword as a variable name, function name, or any other identifier will result in a syntax error.\n",
        "\n",
        "5. What is mutability in Python?\n",
        "   - In Python, mutability refers to the ability to change an object's value or state after it has been created. Mutable objects can be modified in terms of their contents or state, and any operation that modifies a mutable object will change the original object.\n",
        "\n",
        "6. Why are lists mutable, but tuples are immutable?\n",
        "   - In Python lists are mutable because their elements can be modified, added, or removed after the list is created. Python lists data are written in array brackets ex.[ ]. Tuples are immutable because their elements cannot be modified, added or removed after they have been created. Python tuples data are written in round brackets ex.( ).\n",
        "\n",
        "7. What is the difference between “==” and “is” operators in Python?\n",
        "   - \"==\" and \"is\" operators:-\n",
        "     - The \"==\" is referred to as the equality operator. The \"==\" operator is used in python when the values of the operands are equal. In such a case, the condition is true.\n",
        "     - The \"is\" is termed as the identity operator. The \"is\" operator evaluates to true if the variable on either side of the operator point to the same object. If not, it results in a false evaluation.\n",
        "\n",
        "8.  What are logical operators in Python?\n",
        "    - Logical operators in Python are keywords that connect and evaluate\n",
        "      multiple conditions in a single expression:\n",
        "      - and: Returns True if both statements are True. Syntax - A and B.\n",
        "      - or : Returns True if one of the statements is True. Syntax - A or B.\n",
        "      - not: Reverse the result. If the result is True it will return False and\n",
        "        viceversa. Syntax - not A, not B.\n",
        "\n",
        "9.  What is type casting in Python?\n",
        "    - Type casting, also known as type conversion, is the process of converting one data type into another. Ex: If you want to change the data type of a variable from an integer ( 2 ) to a float ( 2.0 ). This is a case where you'd use type casting.\n",
        "\n",
        "10. What is the difference between implicit and explicit type casting?\n",
        "    - Implicit type casting: When Python converts the datatype into another datatype automatically. Users don't have to involve in this process.  \n",
        "      - Automatic type conversion.\n",
        "    - Explicit type casting: When Python needs user involvement to convert the variable data type into the required data type.\n",
        "      - Manual type conversion.\n",
        "\n",
        "11. What is the purpose of conditional statements in Python?\n",
        "    - Conditional statements in Python are used to control the flow of code by determining whether a condition is met before executing code.\n",
        "    - Conditional statements can help you avoid writing long and complicated blocks of code by allowing you to print a message only if a certain condition is met.\n",
        "    - Conditional statements allow you to make decisions based on variable values or comparison results.\n",
        "     Some examples of conditional statements in Python include:\n",
        "        - if: Executes a block of code if a condition is true.\n",
        "        - else: Executes a different block of code if the 'if condition' is false.\n",
        "        - elif: Checks multiple conditions in sequence and executes different code blocks depending on which condition is true.\n",
        "        - nested if: It allows you to have an if statement within another if statement. This is useful for scenarios where you need to evaluate multiple conditions in a hierarchical manner.\n",
        "\n",
        "12. How does the elif statement work?\n",
        "    - The “elif” keyword in Python, stands for “else if”. It can be used in conditional statements to check for multiple conditions. For example, if the first condition is false, it moves on to the next “elif” statement to check if that condition is true. If none of the conditions are true, the code will execute the else statement.\n",
        "    - The syntax is as follows:\n",
        "    \n",
        "     if condition1:\n",
        "     ##### execute code if condition1 is true\n",
        "     elif condition2:\n",
        "     ##### execute code if condition2 is true\n",
        "     else:\n",
        "     ##### execute code if all conditions are false\n",
        "\n",
        "13. What is the difference between for and while loops?\n",
        "    - for loop:\n",
        "      - for loop is used to iterate over a sequence of elements.\n",
        "      - for loop allows a programmer to execute a sequence of statements  \n",
        "        several times.\n",
        "      - It iterates infinite times if no condition is given.\n",
        "    \n",
        "    - while loop:\n",
        "      - while loop is used to repeat a block of code.\n",
        "      - while loop allows a programmer to repeat a single statement or a group of statements for the TRUE condition.\n",
        "      - It shows an error if no condition is given\n",
        "\n",
        "14. Describe a scenario where a while loop is more suitable than a for loop.\n",
        "    - While loops are better suited for situations where the number of iterations is not known in advance. When the number of iterations is known in advance 'for loop' is used. For e.g. In a room full of customers where you have to serve all. In this scenario you have to use 'while loop' as you don't know the number of customers to be served and when the number of customers are known 'for loop' is used.\n",
        "\n",
        "      \n",
        "    \n",
        "      \n",
        "\n",
        "\n",
        "\n",
        "\n",
        "\n",
        "\n",
        "\n",
        "   "
      ],
      "metadata": {
        "id": "_8Qs8-M1Wf9C"
      }
    },
    {
      "cell_type": "markdown",
      "source": [
        "## Practical Questions"
      ],
      "metadata": {
        "id": "zc81r3Wcqj-8"
      }
    },
    {
      "cell_type": "code",
      "source": [
        "#Question 1. Write a Python program to print\"Hello, World!\"\n",
        "#ans.\n",
        "print(\"Hello,World!\")"
      ],
      "metadata": {
        "colab": {
          "base_uri": "https://localhost:8080/"
        },
        "id": "1kUf9-UGqdN9",
        "outputId": "546522c3-3b51-4893-be20-c9e600090438"
      },
      "execution_count": null,
      "outputs": [
        {
          "output_type": "stream",
          "name": "stdout",
          "text": [
            "Hello,World!\n"
          ]
        }
      ]
    },
    {
      "cell_type": "code",
      "source": [
        "#Question 2. Write a Python program that displays your name and age.\n",
        "#ans.\n",
        "name = \"Chandan Singh\"\n",
        "age = 25\n",
        "print(\"My name is\", name)\n",
        "print(\"My age is\", age)"
      ],
      "metadata": {
        "colab": {
          "base_uri": "https://localhost:8080/"
        },
        "id": "CgTSxxmnq57J",
        "outputId": "b3230262-cd86-4a6f-cb85-ece7eaae5d50"
      },
      "execution_count": 5,
      "outputs": [
        {
          "output_type": "stream",
          "name": "stdout",
          "text": [
            "My name is Chandan Singh\n",
            "My age is 25\n"
          ]
        }
      ]
    },
    {
      "cell_type": "code",
      "source": [
        "#Question 3. Write code to print all the pre-defined keywords in Python using the keyword library.\n",
        "#ans.\n",
        "help('keywords')"
      ],
      "metadata": {
        "colab": {
          "base_uri": "https://localhost:8080/"
        },
        "id": "50av9P_XwtrX",
        "outputId": "03fc027b-dacf-43df-9a19-e2e6a3ce006f"
      },
      "execution_count": null,
      "outputs": [
        {
          "output_type": "stream",
          "name": "stdout",
          "text": [
            "\n",
            "Here is a list of the Python keywords.  Enter any keyword to get more help.\n",
            "\n",
            "False               class               from                or\n",
            "None                continue            global              pass\n",
            "True                def                 if                  raise\n",
            "and                 del                 import              return\n",
            "as                  elif                in                  try\n",
            "assert              else                is                  while\n",
            "async               except              lambda              with\n",
            "await               finally             nonlocal            yield\n",
            "break               for                 not                 \n",
            "\n"
          ]
        }
      ]
    },
    {
      "cell_type": "code",
      "source": [
        "#Question 4. Write a program that checks if a given word is a Python keyword.\n",
        "#ans.\n",
        "import keyword      ## keyword.iskeyword(string_to_check)\n",
        "\n",
        "word = \"class\"\n",
        "print(word, \" :\", keyword.iskeyword(word))\n",
        "\n",
        "word = \"break\"\n",
        "print(word, \" :\", keyword.iskeyword(word))\n",
        "\n",
        "word = \"continue\"\n",
        "print(word, \" :\", keyword.iskeyword(word))\n",
        "\n",
        "word = \"test\"\n",
        "print(word, \" :\", keyword.iskeyword(word))\n",
        "\n",
        "word = \"python\"\n",
        "print(word, \" :\", keyword.iskeyword(word))"
      ],
      "metadata": {
        "colab": {
          "base_uri": "https://localhost:8080/"
        },
        "id": "BKkgV_uoy905",
        "outputId": "a857106a-9f5a-4247-b153-f99b49163c0c"
      },
      "execution_count": null,
      "outputs": [
        {
          "output_type": "stream",
          "name": "stdout",
          "text": [
            "class  : True\n",
            "break  : True\n",
            "continue  : True\n",
            "test  : False\n",
            "python  : False\n"
          ]
        }
      ]
    },
    {
      "cell_type": "code",
      "source": [
        "#Question 5. Create a list and tuple in Python, and demonstrate how attempting to change an element works differently for each.\n",
        "#ans.\n",
        "list = [1, 2, 3, 4.5, 3+5j, True, \"Chandan\"]"
      ],
      "metadata": {
        "id": "oFSXm5X7zYZt"
      },
      "execution_count": null,
      "outputs": []
    },
    {
      "cell_type": "code",
      "source": [
        "list"
      ],
      "metadata": {
        "colab": {
          "base_uri": "https://localhost:8080/"
        },
        "id": "JtUH4juG0Zi9",
        "outputId": "4c184320-fe02-4e69-dbb5-95c4b2079e27"
      },
      "execution_count": null,
      "outputs": [
        {
          "output_type": "execute_result",
          "data": {
            "text/plain": [
              "[1, 2, 3, 4.5, (3+5j), True, 'Chandan']"
            ]
          },
          "metadata": {},
          "execution_count": 20
        }
      ]
    },
    {
      "cell_type": "code",
      "source": [
        "list[6]"
      ],
      "metadata": {
        "colab": {
          "base_uri": "https://localhost:8080/",
          "height": 36
        },
        "id": "0_CbK2Vx0cFW",
        "outputId": "a1641fd8-aecc-4e55-829d-c18073d8a9f4"
      },
      "execution_count": null,
      "outputs": [
        {
          "output_type": "execute_result",
          "data": {
            "text/plain": [
              "'Chandan'"
            ],
            "application/vnd.google.colaboratory.intrinsic+json": {
              "type": "string"
            }
          },
          "metadata": {},
          "execution_count": 21
        }
      ]
    },
    {
      "cell_type": "code",
      "source": [
        "list[6] = \"Chandan Singh\""
      ],
      "metadata": {
        "id": "vd8pwlOG0egs"
      },
      "execution_count": null,
      "outputs": []
    },
    {
      "cell_type": "code",
      "source": [
        "list"
      ],
      "metadata": {
        "colab": {
          "base_uri": "https://localhost:8080/"
        },
        "id": "Hr_sIUkM0j4g",
        "outputId": "447fc4a6-7da2-4023-c18c-0b180d2f254e"
      },
      "execution_count": null,
      "outputs": [
        {
          "output_type": "execute_result",
          "data": {
            "text/plain": [
              "[1, 2, 3, 4.5, (3+5j), True, 'Chandan Singh']"
            ]
          },
          "metadata": {},
          "execution_count": 23
        }
      ]
    },
    {
      "cell_type": "code",
      "source": [
        "tuple = (1, 2, 3, 4.5, 3+5j, \"Chandan\")"
      ],
      "metadata": {
        "id": "aYYpHHC_0lTs"
      },
      "execution_count": null,
      "outputs": []
    },
    {
      "cell_type": "code",
      "source": [
        "tuple #tuples are immutable>> cannot edit or modify"
      ],
      "metadata": {
        "colab": {
          "base_uri": "https://localhost:8080/"
        },
        "id": "h9jyOn2204I5",
        "outputId": "37bbf9a5-a01d-4a0b-c3f0-5b9dc663216b"
      },
      "execution_count": null,
      "outputs": [
        {
          "output_type": "execute_result",
          "data": {
            "text/plain": [
              "(1, 2, 3, 4.5, (3+5j), 'Chandan')"
            ]
          },
          "metadata": {},
          "execution_count": 25
        }
      ]
    },
    {
      "cell_type": "code",
      "source": [
        "#Question 6. Write a function to demonstrate the behaviour of mutable and immutable arguments.\n",
        "#ans.\n",
        "def show_behavior(arg1, arg2):   ## The function show_behavior takes a list(arg1) and an integer(arg2) as arguments.\n",
        "\n",
        "  print(\"Before function call:\")\n",
        "  print(\"arg1:\", arg1)\n",
        "  print(\"arg2:\", arg2)\n",
        "\n",
        "  arg1.append(4)\n",
        "\n",
        "  print(\"\\nInside function:\")\n",
        "  print(\"arg1:\", arg1)\n",
        "  print(\"arg2:\", arg2)\n",
        "\n",
        "  print(\"\\nAfter function call:\")\n",
        "  print(\"arg1:\", arg1)\n",
        "  print(\"arg2:\", arg2)\n",
        "\n",
        "my_list = [1,2,3]\n",
        "my_int = 5\n",
        "\n",
        "show_behavior(my_list, my_int)"
      ],
      "metadata": {
        "id": "Bdq3crW90-Mg",
        "colab": {
          "base_uri": "https://localhost:8080/"
        },
        "outputId": "ab06cf4a-6ade-4e31-ff6a-e6e232401187"
      },
      "execution_count": 1,
      "outputs": [
        {
          "output_type": "stream",
          "name": "stdout",
          "text": [
            "Before function call:\n",
            "arg1: [1, 2, 3]\n",
            "arg2: 5\n",
            "\n",
            "Inside function:\n",
            "arg1: [1, 2, 3, 4]\n",
            "arg2: 5\n",
            "\n",
            "After function call:\n",
            "arg1: [1, 2, 3, 4]\n",
            "arg2: 5\n"
          ]
        }
      ]
    },
    {
      "cell_type": "code",
      "source": [
        "#Question 7. Write a function to demonstrate the behaviour of mutable and immutable arguments.\n",
        "#ans.\n",
        "def show_behavior(arg1, arg2):     ## The function show_behavior takes a list(arg1) and an integer(arg2) as arguments.\n",
        "\n",
        "  print(\"Before function call:\")\n",
        "  print(\"arg1:\", arg1)\n",
        "  print(\"arg2:\", arg2)\n",
        "\n",
        "  arg1.append(4)\n",
        "\n",
        "  print(\"\\nInside function:\")\n",
        "  print(\"arg1:\", arg1)\n",
        "  print(\"arg2:\", arg2)\n",
        "\n",
        "  print(\"\\nAfter function call:\")\n",
        "  print(\"arg1:\", arg1)\n",
        "  print(\"arg2:\", arg2)\n",
        "\n",
        "my_list = [1,2,3]\n",
        "my_int = 5\n",
        "\n",
        "show_behavior(my_list, my_int)"
      ],
      "metadata": {
        "id": "pk3Cut965Or4",
        "colab": {
          "base_uri": "https://localhost:8080/"
        },
        "outputId": "669f4e84-3140-48de-c0e0-5e86c4bf629d"
      },
      "execution_count": 2,
      "outputs": [
        {
          "output_type": "stream",
          "name": "stdout",
          "text": [
            "Before function call:\n",
            "arg1: [1, 2, 3]\n",
            "arg2: 5\n",
            "\n",
            "Inside function:\n",
            "arg1: [1, 2, 3, 4]\n",
            "arg2: 5\n",
            "\n",
            "After function call:\n",
            "arg1: [1, 2, 3, 4]\n",
            "arg2: 5\n"
          ]
        }
      ]
    },
    {
      "cell_type": "code",
      "source": [
        "#Question 8. Write a program to demonstrate the use of logical operators.\n",
        "#ans.\n",
        "a, b, c = True, False, True\n",
        "\n",
        "# AND: Both conditions must be True\n",
        "if a and c:\n",
        "    print(\"Both a and c are True (AND condition).\")\n",
        "\n",
        "# OR: At least one condition must be True\n",
        "if b or c:\n",
        "    print(\"Either b or c is True (OR condition).\")\n",
        "\n",
        "# NOT: Reverses the condition\n",
        "if not b:\n",
        "    print(\"b is False (NOT condition).\")"
      ],
      "metadata": {
        "colab": {
          "base_uri": "https://localhost:8080/"
        },
        "id": "edV7Bxm15Qrf",
        "outputId": "f0e14224-e3f5-4ceb-ba0e-80192d5e4acf"
      },
      "execution_count": null,
      "outputs": [
        {
          "output_type": "stream",
          "name": "stdout",
          "text": [
            "Both a and c are True (AND condition).\n",
            "Either b or c is True (OR condition).\n",
            "b is False (NOT condition).\n"
          ]
        }
      ]
    },
    {
      "cell_type": "code",
      "source": [
        "#Question 9. Write a Python program to convert user input from string to integer, float, and boolean types.\n",
        "#ans.\n",
        "a = input(\"Enter a number \") #by default input treats everything as string\n",
        "a"
      ],
      "metadata": {
        "colab": {
          "base_uri": "https://localhost:8080/",
          "height": 53
        },
        "id": "p8MR0iJe9oCu",
        "outputId": "1245a03c-d864-4a91-b5e2-042f3aeabdee"
      },
      "execution_count": null,
      "outputs": [
        {
          "name": "stdout",
          "output_type": "stream",
          "text": [
            "Enter a number 5\n"
          ]
        },
        {
          "output_type": "execute_result",
          "data": {
            "text/plain": [
              "'5'"
            ],
            "application/vnd.google.colaboratory.intrinsic+json": {
              "type": "string"
            }
          },
          "metadata": {},
          "execution_count": 36
        }
      ]
    },
    {
      "cell_type": "code",
      "source": [
        "type(a)"
      ],
      "metadata": {
        "colab": {
          "base_uri": "https://localhost:8080/"
        },
        "id": "F5UfcDALBGP-",
        "outputId": "24a4fe9c-2b6f-4810-c9bd-418a92b3fe68"
      },
      "execution_count": null,
      "outputs": [
        {
          "output_type": "execute_result",
          "data": {
            "text/plain": [
              "str"
            ]
          },
          "metadata": {},
          "execution_count": 34
        }
      ]
    },
    {
      "cell_type": "code",
      "source": [
        "a = int(input(\"Enter a number \"))\n",
        "a"
      ],
      "metadata": {
        "colab": {
          "base_uri": "https://localhost:8080/"
        },
        "id": "0wuVwqSQBJZO",
        "outputId": "0e54e8c2-2c93-44cf-ec15-8a6fda2c2642"
      },
      "execution_count": null,
      "outputs": [
        {
          "name": "stdout",
          "output_type": "stream",
          "text": [
            "Enter a number 5\n"
          ]
        },
        {
          "output_type": "execute_result",
          "data": {
            "text/plain": [
              "5"
            ]
          },
          "metadata": {},
          "execution_count": 38
        }
      ]
    },
    {
      "cell_type": "code",
      "source": [
        "type(a)"
      ],
      "metadata": {
        "colab": {
          "base_uri": "https://localhost:8080/"
        },
        "id": "buY6xmALBWnr",
        "outputId": "9bba7c3e-3975-4906-c84b-827ff3ddad8c"
      },
      "execution_count": null,
      "outputs": [
        {
          "output_type": "execute_result",
          "data": {
            "text/plain": [
              "int"
            ]
          },
          "metadata": {},
          "execution_count": 39
        }
      ]
    },
    {
      "cell_type": "code",
      "source": [
        "float(a)"
      ],
      "metadata": {
        "colab": {
          "base_uri": "https://localhost:8080/"
        },
        "id": "sVsuehQUBaxQ",
        "outputId": "d909c953-1368-4143-82df-a9c0283579aa"
      },
      "execution_count": null,
      "outputs": [
        {
          "output_type": "execute_result",
          "data": {
            "text/plain": [
              "5.0"
            ]
          },
          "metadata": {},
          "execution_count": 41
        }
      ]
    },
    {
      "cell_type": "code",
      "source": [
        "bool(a)"
      ],
      "metadata": {
        "colab": {
          "base_uri": "https://localhost:8080/"
        },
        "id": "GLjtVk6qCE6T",
        "outputId": "018ca4db-a446-4db3-ecf8-423975ec98c2"
      },
      "execution_count": null,
      "outputs": [
        {
          "output_type": "execute_result",
          "data": {
            "text/plain": [
              "True"
            ]
          },
          "metadata": {},
          "execution_count": 42
        }
      ]
    },
    {
      "cell_type": "code",
      "source": [
        "#Question 10. Write code to demonstrate type casting with list elements.\n",
        "#ans.\n",
        "# Original list\n",
        "original_list = [\"1\", \"2\", \"3\"]\n",
        "\n",
        "# Convert all elements to integers\n",
        "int_list = [int(item) for item in original_list]\n",
        "print(\"Integer List:\", int_list)\n",
        "\n",
        "# Convert all elements to floats\n",
        "float_list = [float(item) for item in original_list]\n",
        "print(\"Float List:\", float_list)\n",
        "\n",
        "# Convert all elements to strings\n",
        "string_list = [str(item) for item in original_list]\n",
        "print(\"String List:\", string_list)"
      ],
      "metadata": {
        "id": "cJPtYCn3CI-q",
        "colab": {
          "base_uri": "https://localhost:8080/"
        },
        "outputId": "ade8f3f4-1f8f-4d9b-b45d-70e52a215a0a"
      },
      "execution_count": 7,
      "outputs": [
        {
          "output_type": "stream",
          "name": "stdout",
          "text": [
            "Integer List: [1, 2, 3]\n",
            "Float List: [1.0, 2.0, 3.0]\n",
            "String List: ['1', '2', '3']\n"
          ]
        }
      ]
    },
    {
      "cell_type": "code",
      "source": [
        "#Question 11. Write a program that checks if a number is positive, negative, or zero.\n",
        "#ans.\n",
        "num = float(input(\"Enter a number: \"))\n",
        "if num > 0:\n",
        "   print(\"Positive number\")\n",
        "elif num == 0:\n",
        "   print(\"Zero\")\n",
        "else:\n",
        "   print(\"Negative number\")"
      ],
      "metadata": {
        "colab": {
          "base_uri": "https://localhost:8080/"
        },
        "id": "gCMUMNRZGrW_",
        "outputId": "deb87a99-0b79-4ca5-facc-b66bcd5b58d4"
      },
      "execution_count": null,
      "outputs": [
        {
          "output_type": "stream",
          "name": "stdout",
          "text": [
            "Enter a number: 5\n",
            "Positive number\n"
          ]
        }
      ]
    },
    {
      "cell_type": "code",
      "source": [
        "#Question 12. Write a for loop to print numbers from 1 to 10.\n",
        "#ans.\n",
        "for i in range(1, 11):\n",
        "  print(i, end=\" \")"
      ],
      "metadata": {
        "colab": {
          "base_uri": "https://localhost:8080/"
        },
        "id": "Rwh2PUE3GwlU",
        "outputId": "64d7463d-0dac-4f2f-cb3b-75a4b59ec689"
      },
      "execution_count": null,
      "outputs": [
        {
          "output_type": "stream",
          "name": "stdout",
          "text": [
            "1 2 3 4 5 6 7 8 9 10 "
          ]
        }
      ]
    },
    {
      "cell_type": "code",
      "source": [
        "#Question 13. Write a Python program to find the sum of all even numbers between 1 and 50.\n",
        "#ans.\n",
        "sum=0\n",
        "for i in range(1, 51):\n",
        "  if i%2==0:\n",
        "    sum=sum+i\n",
        "print(\"sum =\",sum)"
      ],
      "metadata": {
        "colab": {
          "base_uri": "https://localhost:8080/"
        },
        "id": "YbCbQE5HJV3F",
        "outputId": "18507a7b-2bf8-4d81-eba3-aa1327fb1c0b"
      },
      "execution_count": null,
      "outputs": [
        {
          "output_type": "stream",
          "name": "stdout",
          "text": [
            "sum = 650\n"
          ]
        }
      ]
    },
    {
      "cell_type": "code",
      "source": [
        "#Question 14. Write a program to reverse a string using a while loop.\n",
        "#ans.\n",
        "s = \"Chandan Singh\"  ## 'slicing' method is one of the simplest and efficient method to reverse a string.\n",
        "rev = s[::-1]\n",
        "print(rev)"
      ],
      "metadata": {
        "colab": {
          "base_uri": "https://localhost:8080/"
        },
        "id": "3qnXBzeoLf9A",
        "outputId": "9ebb2e1b-a215-4e31-f52e-6d4445697fb9"
      },
      "execution_count": null,
      "outputs": [
        {
          "output_type": "stream",
          "name": "stdout",
          "text": [
            "hgniS nadnahC\n"
          ]
        }
      ]
    },
    {
      "cell_type": "code",
      "source": [
        "#Question 15. Write a Python program to calculate the factorial of a number provided by the user using a while loop.\n",
        "#ans.\n",
        "# accept input number from user\n",
        "n = int(input(\"Enter any number: \"))\n",
        "\n",
        "# logic to calculate the factorial of a number\n",
        "f = 1\n",
        "while n >= 1:\n",
        "    f *= n\n",
        "    n -= 1\n",
        "\n",
        "# print output\n",
        "print(\"Factorial is\", f)"
      ],
      "metadata": {
        "colab": {
          "base_uri": "https://localhost:8080/"
        },
        "id": "A2ymkn9hW4P9",
        "outputId": "02195b68-b584-43b5-d433-c2ac42313f61"
      },
      "execution_count": null,
      "outputs": [
        {
          "output_type": "stream",
          "name": "stdout",
          "text": [
            "Enter any number: 5\n",
            "Factorial is 120\n"
          ]
        }
      ]
    },
    {
      "cell_type": "code",
      "source": [],
      "metadata": {
        "id": "Cwt2bnlJZDeG"
      },
      "execution_count": null,
      "outputs": []
    }
  ]
}